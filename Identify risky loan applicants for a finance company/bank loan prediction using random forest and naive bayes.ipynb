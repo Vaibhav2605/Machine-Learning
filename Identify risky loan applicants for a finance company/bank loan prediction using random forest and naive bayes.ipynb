{
 "cells": [
  {
   "cell_type": "code",
   "execution_count": 1,
   "metadata": {},
   "outputs": [],
   "source": [
    "import os\n",
    "import numpy as np\n",
    "import pandas as pd\n",
    "from sklearn.preprocessing import LabelEncoder"
   ]
  },
  {
   "cell_type": "code",
   "execution_count": 2,
   "metadata": {},
   "outputs": [],
   "source": [
    "df=pd.read_excel(\"loan.xlsx\")"
   ]
  },
  {
   "cell_type": "code",
   "execution_count": 3,
   "metadata": {},
   "outputs": [
    {
     "name": "stdout",
     "output_type": "stream",
     "text": [
      "<class 'pandas.core.frame.DataFrame'>\n",
      "RangeIndex: 39717 entries, 0 to 39716\n",
      "Data columns (total 111 columns):\n",
      "id                                39717 non-null int64\n",
      "member_id                         39717 non-null int64\n",
      "loan_amnt                         39717 non-null int64\n",
      "funded_amnt                       39717 non-null int64\n",
      "funded_amnt_inv                   39717 non-null float64\n",
      "term                              39717 non-null object\n",
      "int_rate                          39717 non-null float64\n",
      "installment                       39717 non-null float64\n",
      "grade                             39717 non-null object\n",
      "sub_grade                         39717 non-null object\n",
      "emp_title                         37258 non-null object\n",
      "emp_length                        38642 non-null object\n",
      "home_ownership                    39717 non-null object\n",
      "annual_inc                        39717 non-null float64\n",
      "verification_status               39717 non-null object\n",
      "issue_d                           39717 non-null datetime64[ns]\n",
      "loan_status                       39717 non-null object\n",
      "pymnt_plan                        39717 non-null object\n",
      "url                               39717 non-null object\n",
      "desc                              26777 non-null object\n",
      "purpose                           39717 non-null object\n",
      "title                             39705 non-null object\n",
      "zip_code                          39717 non-null object\n",
      "addr_state                        39717 non-null object\n",
      "dti                               39717 non-null float64\n",
      "delinq_2yrs                       39717 non-null int64\n",
      "earliest_cr_line                  39717 non-null datetime64[ns]\n",
      "inq_last_6mths                    39717 non-null int64\n",
      "mths_since_last_delinq            14035 non-null float64\n",
      "mths_since_last_record            2786 non-null float64\n",
      "open_acc                          39717 non-null int64\n",
      "pub_rec                           39717 non-null int64\n",
      "revol_bal                         39717 non-null int64\n",
      "revol_util                        39667 non-null float64\n",
      "total_acc                         39717 non-null int64\n",
      "initial_list_status               39717 non-null object\n",
      "out_prncp                         39717 non-null float64\n",
      "out_prncp_inv                     39717 non-null float64\n",
      "total_pymnt                       39717 non-null float64\n",
      "total_pymnt_inv                   39717 non-null float64\n",
      "total_rec_prncp                   39717 non-null float64\n",
      "total_rec_int                     39717 non-null float64\n",
      "total_rec_late_fee                39717 non-null float64\n",
      "recoveries                        39717 non-null float64\n",
      "collection_recovery_fee           39717 non-null float64\n",
      "last_pymnt_d                      39646 non-null datetime64[ns]\n",
      "last_pymnt_amnt                   39717 non-null float64\n",
      "next_pymnt_d                      1140 non-null datetime64[ns]\n",
      "last_credit_pull_d                39715 non-null datetime64[ns]\n",
      "collections_12_mths_ex_med        39661 non-null float64\n",
      "mths_since_last_major_derog       0 non-null float64\n",
      "policy_code                       39717 non-null int64\n",
      "application_type                  39717 non-null object\n",
      "annual_inc_joint                  0 non-null float64\n",
      "dti_joint                         0 non-null float64\n",
      "verification_status_joint         0 non-null float64\n",
      "acc_now_delinq                    39717 non-null int64\n",
      "tot_coll_amt                      0 non-null float64\n",
      "tot_cur_bal                       0 non-null float64\n",
      "open_acc_6m                       0 non-null float64\n",
      "open_il_6m                        0 non-null float64\n",
      "open_il_12m                       0 non-null float64\n",
      "open_il_24m                       0 non-null float64\n",
      "mths_since_rcnt_il                0 non-null float64\n",
      "total_bal_il                      0 non-null float64\n",
      "il_util                           0 non-null float64\n",
      "open_rv_12m                       0 non-null float64\n",
      "open_rv_24m                       0 non-null float64\n",
      "max_bal_bc                        0 non-null float64\n",
      "all_util                          0 non-null float64\n",
      "total_rev_hi_lim                  0 non-null float64\n",
      "inq_fi                            0 non-null float64\n",
      "total_cu_tl                       0 non-null float64\n",
      "inq_last_12m                      0 non-null float64\n",
      "acc_open_past_24mths              0 non-null float64\n",
      "avg_cur_bal                       0 non-null float64\n",
      "bc_open_to_buy                    0 non-null float64\n",
      "bc_util                           0 non-null float64\n",
      "chargeoff_within_12_mths          39661 non-null float64\n",
      "delinq_amnt                       39717 non-null int64\n",
      "mo_sin_old_il_acct                0 non-null float64\n",
      "mo_sin_old_rev_tl_op              0 non-null float64\n",
      "mo_sin_rcnt_rev_tl_op             0 non-null float64\n",
      "mo_sin_rcnt_tl                    0 non-null float64\n",
      "mort_acc                          0 non-null float64\n",
      "mths_since_recent_bc              0 non-null float64\n",
      "mths_since_recent_bc_dlq          0 non-null float64\n",
      "mths_since_recent_inq             0 non-null float64\n",
      "mths_since_recent_revol_delinq    0 non-null float64\n",
      "num_accts_ever_120_pd             0 non-null float64\n",
      "num_actv_bc_tl                    0 non-null float64\n",
      "num_actv_rev_tl                   0 non-null float64\n",
      "num_bc_sats                       0 non-null float64\n",
      "num_bc_tl                         0 non-null float64\n",
      "num_il_tl                         0 non-null float64\n",
      "num_op_rev_tl                     0 non-null float64\n",
      "num_rev_accts                     0 non-null float64\n",
      "num_rev_tl_bal_gt_0               0 non-null float64\n",
      "num_sats                          0 non-null float64\n",
      "num_tl_120dpd_2m                  0 non-null float64\n",
      "num_tl_30dpd                      0 non-null float64\n",
      "num_tl_90g_dpd_24m                0 non-null float64\n",
      "num_tl_op_past_12m                0 non-null float64\n",
      "pct_tl_nvr_dlq                    0 non-null float64\n",
      "percent_bc_gt_75                  0 non-null float64\n",
      "pub_rec_bankruptcies              39020 non-null float64\n",
      "tax_liens                         39678 non-null float64\n",
      "tot_hi_cred_lim                   0 non-null float64\n",
      "total_bal_ex_mort                 0 non-null float64\n",
      "total_bc_limit                    0 non-null float64\n",
      "total_il_high_credit_limit        0 non-null float64\n",
      "dtypes: datetime64[ns](5), float64(76), int64(13), object(17)\n",
      "memory usage: 137.2 MB\n"
     ]
    }
   ],
   "source": [
    "df.info(verbose=True,memory_usage='deep',null_counts = True)"
   ]
  },
  {
   "cell_type": "markdown",
   "metadata": {},
   "source": [
    "# DATA PREPROCESSING AND CLEANING"
   ]
  },
  {
   "cell_type": "markdown",
   "metadata": {},
   "source": [
    "## 1.dropping all the  columns with all null values"
   ]
  },
  {
   "cell_type": "markdown",
   "metadata": {},
   "source": [
    "As we can see above many of the columns have all null values , so what I did was first dropped all the columns with all the null values as shown below."
   ]
  },
  {
   "cell_type": "code",
   "execution_count": 4,
   "metadata": {},
   "outputs": [],
   "source": [
    "drop_col=['mo_sin_old_il_acct',                \n",
    "'mo_sin_old_rev_tl_op',             \n",
    "'mo_sin_rcnt_rev_tl_op' ,           \n",
    "'mo_sin_rcnt_tl',                    \n",
    "'mort_acc',                         # 0 non-null float64\n",
    "'mths_since_recent_bc',              #0 non-null float64\n",
    "'mths_since_recent_bc_dlq',          #0 non-null float64\n",
    "'mths_since_recent_inq',             #0 non-null float64\n",
    "'mths_since_recent_revol_delinq',    #0 non-null float64\n",
    "'num_accts_ever_120_pd',             #0 non-null float64\n",
    "'num_actv_bc_tl',                    #0 non-null float64\n",
    "'num_actv_rev_tl',                   #0 non-null float64\n",
    "'num_bc_sats',                       #0 non-null float64\n",
    "'num_bc_tl',                         #0 non-null float64\n",
    "'num_il_tl',                         #0 non-null float64\n",
    "'num_op_rev_tl',                     #0 non-null float64\n",
    "'num_rev_accts',                     #0 non-null float64\n",
    "'num_rev_tl_bal_gt_0',               #0 non-null float64\n",
    "'num_sats',                          #0 non-null float64\n",
    "'num_tl_120dpd_2m',                  \n",
    "'num_tl_30dpd',                      \n",
    "'num_tl_90g_dpd_24m',                \n",
    "'num_tl_op_past_12m',                \n",
    "'pct_tl_nvr_dlq',                   \n",
    "'percent_bc_gt_75','tot_hi_cred_lim','total_bal_ex_mort','total_bc_limit','total_il_high_credit_limit',\n",
    "'tot_coll_amt',                     \n",
    "'tot_cur_bal',                       #0 non-null float64\n",
    "'open_acc_6m',                       #0 non-null float64\n",
    "'open_il_6m',                        #0 non-null float64\n",
    "'open_il_12m',                       #0 non-null float64\n",
    "'open_il_24m',                       #0 non-null float64\n",
    "'mths_since_rcnt_il',                #0 non-null float64\n",
    "'total_bal_il',                      #0 non-null float64\n",
    "'il_util',                           #0 non-null float64\n",
    "'open_rv_12m',                       #0 non-null float64\n",
    "'open_rv_24m',                       #0 non-null float64\n",
    "'max_bal_bc',                        #0 non-null float64\n",
    "'all_util',                          #0 non-null float64\n",
    "'total_rev_hi_lim',                  #0 non-null float64\n",
    "'inq_fi',                            #0 non-null float64\n",
    "'total_cu_tl',                       #0 non-null float64\n",
    "'inq_last_12m',                      #0 non-null float64\n",
    "'acc_open_past_24mths',              #0 non-null float64\n",
    "'avg_cur_bal',                       #0 non-null float64\n",
    "'bc_open_to_buy',                    \n",
    "'bc_util','id','member_id','emp_title','title','zip_code','url','mths_since_last_major_derog','annual_inc_joint','dti_joint','verification_status_joint','desc','mths_since_last_record' ]"
   ]
  },
  {
   "cell_type": "code",
   "execution_count": 5,
   "metadata": {},
   "outputs": [],
   "source": [
    "df_new=df.drop(drop_col,axis=1)"
   ]
  },
  {
   "cell_type": "code",
   "execution_count": 6,
   "metadata": {},
   "outputs": [
    {
     "data": {
      "text/plain": [
       "(39717, 49)"
      ]
     },
     "execution_count": 6,
     "metadata": {},
     "output_type": "execute_result"
    }
   ],
   "source": [
    "df_new.shape"
   ]
  },
  {
   "cell_type": "code",
   "execution_count": 7,
   "metadata": {},
   "outputs": [
    {
     "name": "stdout",
     "output_type": "stream",
     "text": [
      "<class 'pandas.core.frame.DataFrame'>\n",
      "RangeIndex: 39717 entries, 0 to 39716\n",
      "Data columns (total 49 columns):\n",
      "loan_amnt                     39717 non-null int64\n",
      "funded_amnt                   39717 non-null int64\n",
      "funded_amnt_inv               39717 non-null float64\n",
      "term                          39717 non-null object\n",
      "int_rate                      39717 non-null float64\n",
      "installment                   39717 non-null float64\n",
      "grade                         39717 non-null object\n",
      "sub_grade                     39717 non-null object\n",
      "emp_length                    38642 non-null object\n",
      "home_ownership                39717 non-null object\n",
      "annual_inc                    39717 non-null float64\n",
      "verification_status           39717 non-null object\n",
      "issue_d                       39717 non-null datetime64[ns]\n",
      "loan_status                   39717 non-null object\n",
      "pymnt_plan                    39717 non-null object\n",
      "purpose                       39717 non-null object\n",
      "addr_state                    39717 non-null object\n",
      "dti                           39717 non-null float64\n",
      "delinq_2yrs                   39717 non-null int64\n",
      "earliest_cr_line              39717 non-null datetime64[ns]\n",
      "inq_last_6mths                39717 non-null int64\n",
      "mths_since_last_delinq        14035 non-null float64\n",
      "open_acc                      39717 non-null int64\n",
      "pub_rec                       39717 non-null int64\n",
      "revol_bal                     39717 non-null int64\n",
      "revol_util                    39667 non-null float64\n",
      "total_acc                     39717 non-null int64\n",
      "initial_list_status           39717 non-null object\n",
      "out_prncp                     39717 non-null float64\n",
      "out_prncp_inv                 39717 non-null float64\n",
      "total_pymnt                   39717 non-null float64\n",
      "total_pymnt_inv               39717 non-null float64\n",
      "total_rec_prncp               39717 non-null float64\n",
      "total_rec_int                 39717 non-null float64\n",
      "total_rec_late_fee            39717 non-null float64\n",
      "recoveries                    39717 non-null float64\n",
      "collection_recovery_fee       39717 non-null float64\n",
      "last_pymnt_d                  39646 non-null datetime64[ns]\n",
      "last_pymnt_amnt               39717 non-null float64\n",
      "next_pymnt_d                  1140 non-null datetime64[ns]\n",
      "last_credit_pull_d            39715 non-null datetime64[ns]\n",
      "collections_12_mths_ex_med    39661 non-null float64\n",
      "policy_code                   39717 non-null int64\n",
      "application_type              39717 non-null object\n",
      "acc_now_delinq                39717 non-null int64\n",
      "chargeoff_within_12_mths      39661 non-null float64\n",
      "delinq_amnt                   39717 non-null int64\n",
      "pub_rec_bankruptcies          39020 non-null float64\n",
      "tax_liens                     39678 non-null float64\n",
      "dtypes: datetime64[ns](5), float64(21), int64(11), object(12)\n",
      "memory usage: 14.8+ MB\n"
     ]
    }
   ],
   "source": [
    "df_new.info()  #Checking the info for seeing how many columns have some null values now.\n"
   ]
  },
  {
   "cell_type": "markdown",
   "metadata": {},
   "source": [
    "## 2.filling the columns with some null entries "
   ]
  },
  {
   "cell_type": "markdown",
   "metadata": {},
   "source": [
    "Now after dropping the columns with all the null values we come to the columns with some null values .The names of these columns can be found above.I used median() to fill out these null values"
   ]
  },
  {
   "cell_type": "code",
   "execution_count": 8,
   "metadata": {},
   "outputs": [],
   "source": [
    "df_new['mths_since_last_delinq'] = df_new['mths_since_last_delinq'].fillna(df_new['mths_since_last_delinq'].median())\n",
    "df_new['revol_util'] = df_new['revol_util'].fillna(df_new['revol_util'].median())\n",
    "df_new['collections_12_mths_ex_med'] = df_new['collections_12_mths_ex_med'].fillna(df_new['collections_12_mths_ex_med'].median())\n",
    "df_new['chargeoff_within_12_mths'] = df_new['chargeoff_within_12_mths'].fillna(df_new['chargeoff_within_12_mths'].median())\n",
    "df_new['pub_rec_bankruptcies'] = df_new['pub_rec_bankruptcies'].fillna(df_new['pub_rec_bankruptcies'].median())\n",
    "df_new['tax_liens'] = df_new['tax_liens'].fillna(df_new['tax_liens'].median())\n"
   ]
  },
  {
   "cell_type": "code",
   "execution_count": 9,
   "metadata": {},
   "outputs": [
    {
     "name": "stdout",
     "output_type": "stream",
     "text": [
      "<class 'pandas.core.frame.DataFrame'>\n",
      "RangeIndex: 39717 entries, 0 to 39716\n",
      "Data columns (total 49 columns):\n",
      "loan_amnt                     39717 non-null int64\n",
      "funded_amnt                   39717 non-null int64\n",
      "funded_amnt_inv               39717 non-null float64\n",
      "term                          39717 non-null object\n",
      "int_rate                      39717 non-null float64\n",
      "installment                   39717 non-null float64\n",
      "grade                         39717 non-null object\n",
      "sub_grade                     39717 non-null object\n",
      "emp_length                    38642 non-null object\n",
      "home_ownership                39717 non-null object\n",
      "annual_inc                    39717 non-null float64\n",
      "verification_status           39717 non-null object\n",
      "issue_d                       39717 non-null datetime64[ns]\n",
      "loan_status                   39717 non-null object\n",
      "pymnt_plan                    39717 non-null object\n",
      "purpose                       39717 non-null object\n",
      "addr_state                    39717 non-null object\n",
      "dti                           39717 non-null float64\n",
      "delinq_2yrs                   39717 non-null int64\n",
      "earliest_cr_line              39717 non-null datetime64[ns]\n",
      "inq_last_6mths                39717 non-null int64\n",
      "mths_since_last_delinq        39717 non-null float64\n",
      "open_acc                      39717 non-null int64\n",
      "pub_rec                       39717 non-null int64\n",
      "revol_bal                     39717 non-null int64\n",
      "revol_util                    39717 non-null float64\n",
      "total_acc                     39717 non-null int64\n",
      "initial_list_status           39717 non-null object\n",
      "out_prncp                     39717 non-null float64\n",
      "out_prncp_inv                 39717 non-null float64\n",
      "total_pymnt                   39717 non-null float64\n",
      "total_pymnt_inv               39717 non-null float64\n",
      "total_rec_prncp               39717 non-null float64\n",
      "total_rec_int                 39717 non-null float64\n",
      "total_rec_late_fee            39717 non-null float64\n",
      "recoveries                    39717 non-null float64\n",
      "collection_recovery_fee       39717 non-null float64\n",
      "last_pymnt_d                  39646 non-null datetime64[ns]\n",
      "last_pymnt_amnt               39717 non-null float64\n",
      "next_pymnt_d                  1140 non-null datetime64[ns]\n",
      "last_credit_pull_d            39715 non-null datetime64[ns]\n",
      "collections_12_mths_ex_med    39717 non-null float64\n",
      "policy_code                   39717 non-null int64\n",
      "application_type              39717 non-null object\n",
      "acc_now_delinq                39717 non-null int64\n",
      "chargeoff_within_12_mths      39717 non-null float64\n",
      "delinq_amnt                   39717 non-null int64\n",
      "pub_rec_bankruptcies          39717 non-null float64\n",
      "tax_liens                     39717 non-null float64\n",
      "dtypes: datetime64[ns](5), float64(21), int64(11), object(12)\n",
      "memory usage: 14.8+ MB\n"
     ]
    }
   ],
   "source": [
    "df_new.info()"
   ]
  },
  {
   "cell_type": "markdown",
   "metadata": {},
   "source": [
    "## 3. Filling and converting the datetime64 object to normal object type(for ease in label encoding) "
   ]
  },
  {
   "cell_type": "code",
   "execution_count": 10,
   "metadata": {},
   "outputs": [],
   "source": [
    "\n",
    "df_new['last_pymnt_d']= pd.to_datetime(df_new['last_pymnt_d'].fillna('2016-01-01')).apply(lambda x: int(x.strftime('%m')))\n",
    "df_new['last_credit_pull_d']= pd.to_datetime(df_new['last_credit_pull_d'].fillna(\"2016-01-01\")).apply(lambda x: int(x.strftime('%m')))\n",
    "df_new['next_pymnt_d'] = pd.to_datetime(df_new['next_pymnt_d'].fillna(value = '2016-02-01')).apply(lambda x:int(x.strftime(\"%Y\")))\n",
    "df_new['earliest_cr_line']= pd.to_datetime(df_new['earliest_cr_line'].fillna('2001-08-01')).apply(lambda x: int(x.strftime('%m')))\n",
    "df_new['issue_d']= pd.to_datetime(df_new['issue_d']).apply(lambda x: int(x.strftime('%Y')))\n"
   ]
  },
  {
   "cell_type": "code",
   "execution_count": 11,
   "metadata": {},
   "outputs": [],
   "source": [
    "df_new['emp_length'] = df_new['emp_length'].fillna('3 years')"
   ]
  },
  {
   "cell_type": "markdown",
   "metadata": {},
   "source": [
    "Now all the columns are filled properly and it can also be seen below."
   ]
  },
  {
   "cell_type": "code",
   "execution_count": 12,
   "metadata": {},
   "outputs": [
    {
     "name": "stdout",
     "output_type": "stream",
     "text": [
      "<class 'pandas.core.frame.DataFrame'>\n",
      "RangeIndex: 39717 entries, 0 to 39716\n",
      "Data columns (total 49 columns):\n",
      "loan_amnt                     39717 non-null int64\n",
      "funded_amnt                   39717 non-null int64\n",
      "funded_amnt_inv               39717 non-null float64\n",
      "term                          39717 non-null object\n",
      "int_rate                      39717 non-null float64\n",
      "installment                   39717 non-null float64\n",
      "grade                         39717 non-null object\n",
      "sub_grade                     39717 non-null object\n",
      "emp_length                    39717 non-null object\n",
      "home_ownership                39717 non-null object\n",
      "annual_inc                    39717 non-null float64\n",
      "verification_status           39717 non-null object\n",
      "issue_d                       39717 non-null int64\n",
      "loan_status                   39717 non-null object\n",
      "pymnt_plan                    39717 non-null object\n",
      "purpose                       39717 non-null object\n",
      "addr_state                    39717 non-null object\n",
      "dti                           39717 non-null float64\n",
      "delinq_2yrs                   39717 non-null int64\n",
      "earliest_cr_line              39717 non-null int64\n",
      "inq_last_6mths                39717 non-null int64\n",
      "mths_since_last_delinq        39717 non-null float64\n",
      "open_acc                      39717 non-null int64\n",
      "pub_rec                       39717 non-null int64\n",
      "revol_bal                     39717 non-null int64\n",
      "revol_util                    39717 non-null float64\n",
      "total_acc                     39717 non-null int64\n",
      "initial_list_status           39717 non-null object\n",
      "out_prncp                     39717 non-null float64\n",
      "out_prncp_inv                 39717 non-null float64\n",
      "total_pymnt                   39717 non-null float64\n",
      "total_pymnt_inv               39717 non-null float64\n",
      "total_rec_prncp               39717 non-null float64\n",
      "total_rec_int                 39717 non-null float64\n",
      "total_rec_late_fee            39717 non-null float64\n",
      "recoveries                    39717 non-null float64\n",
      "collection_recovery_fee       39717 non-null float64\n",
      "last_pymnt_d                  39717 non-null int64\n",
      "last_pymnt_amnt               39717 non-null float64\n",
      "next_pymnt_d                  39717 non-null int64\n",
      "last_credit_pull_d            39717 non-null int64\n",
      "collections_12_mths_ex_med    39717 non-null float64\n",
      "policy_code                   39717 non-null int64\n",
      "application_type              39717 non-null object\n",
      "acc_now_delinq                39717 non-null int64\n",
      "chargeoff_within_12_mths      39717 non-null float64\n",
      "delinq_amnt                   39717 non-null int64\n",
      "pub_rec_bankruptcies          39717 non-null float64\n",
      "tax_liens                     39717 non-null float64\n",
      "dtypes: float64(21), int64(16), object(12)\n",
      "memory usage: 14.8+ MB\n"
     ]
    }
   ],
   "source": [
    "df_new.info()"
   ]
  },
  {
   "cell_type": "markdown",
   "metadata": {},
   "source": [
    "# label encoding the categorical data"
   ]
  },
  {
   "cell_type": "code",
   "execution_count": 13,
   "metadata": {},
   "outputs": [],
   "source": [
    "X=df_new.drop('loan_status',axis=1)\n",
    "Y=df_new['loan_status']"
   ]
  },
  {
   "cell_type": "code",
   "execution_count": 14,
   "metadata": {},
   "outputs": [
    {
     "name": "stdout",
     "output_type": "stream",
     "text": [
      "((39717, 48), (39717,))\n"
     ]
    }
   ],
   "source": [
    "print(X.shape,Y.shape)"
   ]
  },
  {
   "cell_type": "code",
   "execution_count": 15,
   "metadata": {},
   "outputs": [],
   "source": [
    "le=LabelEncoder()"
   ]
  },
  {
   "cell_type": "code",
   "execution_count": 16,
   "metadata": {},
   "outputs": [],
   "source": [
    "y=le.fit_transform(Y)"
   ]
  },
  {
   "cell_type": "code",
   "execution_count": 17,
   "metadata": {},
   "outputs": [
    {
     "name": "stdout",
     "output_type": "stream",
     "text": [
      "((39717, 48), (39717,))\n",
      "<class 'pandas.core.frame.DataFrame'>\n",
      "RangeIndex: 39717 entries, 0 to 39716\n",
      "Data columns (total 48 columns):\n",
      "loan_amnt                     39717 non-null int64\n",
      "funded_amnt                   39717 non-null int64\n",
      "funded_amnt_inv               39717 non-null float64\n",
      "term                          39717 non-null object\n",
      "int_rate                      39717 non-null float64\n",
      "installment                   39717 non-null float64\n",
      "grade                         39717 non-null object\n",
      "sub_grade                     39717 non-null object\n",
      "emp_length                    39717 non-null object\n",
      "home_ownership                39717 non-null object\n",
      "annual_inc                    39717 non-null float64\n",
      "verification_status           39717 non-null object\n",
      "issue_d                       39717 non-null int64\n",
      "pymnt_plan                    39717 non-null object\n",
      "purpose                       39717 non-null object\n",
      "addr_state                    39717 non-null object\n",
      "dti                           39717 non-null float64\n",
      "delinq_2yrs                   39717 non-null int64\n",
      "earliest_cr_line              39717 non-null int64\n",
      "inq_last_6mths                39717 non-null int64\n",
      "mths_since_last_delinq        39717 non-null float64\n",
      "open_acc                      39717 non-null int64\n",
      "pub_rec                       39717 non-null int64\n",
      "revol_bal                     39717 non-null int64\n",
      "revol_util                    39717 non-null float64\n",
      "total_acc                     39717 non-null int64\n",
      "initial_list_status           39717 non-null object\n",
      "out_prncp                     39717 non-null float64\n",
      "out_prncp_inv                 39717 non-null float64\n",
      "total_pymnt                   39717 non-null float64\n",
      "total_pymnt_inv               39717 non-null float64\n",
      "total_rec_prncp               39717 non-null float64\n",
      "total_rec_int                 39717 non-null float64\n",
      "total_rec_late_fee            39717 non-null float64\n",
      "recoveries                    39717 non-null float64\n",
      "collection_recovery_fee       39717 non-null float64\n",
      "last_pymnt_d                  39717 non-null int64\n",
      "last_pymnt_amnt               39717 non-null float64\n",
      "next_pymnt_d                  39717 non-null int64\n",
      "last_credit_pull_d            39717 non-null int64\n",
      "collections_12_mths_ex_med    39717 non-null float64\n",
      "policy_code                   39717 non-null int64\n",
      "application_type              39717 non-null object\n",
      "acc_now_delinq                39717 non-null int64\n",
      "chargeoff_within_12_mths      39717 non-null float64\n",
      "delinq_amnt                   39717 non-null int64\n",
      "pub_rec_bankruptcies          39717 non-null float64\n",
      "tax_liens                     39717 non-null float64\n",
      "dtypes: float64(21), int64(16), object(11)\n",
      "memory usage: 14.5+ MB\n"
     ]
    }
   ],
   "source": [
    "print(X.shape,Y.shape)\n",
    "X.info()"
   ]
  },
  {
   "cell_type": "markdown",
   "metadata": {},
   "source": [
    "### label encoding columns with only 2 types of values "
   ]
  },
  {
   "cell_type": "code",
   "execution_count": 18,
   "metadata": {},
   "outputs": [
    {
     "name": "stdout",
     "output_type": "stream",
     "text": [
      "term\n",
      "pymnt_plan\n",
      "initial_list_status\n",
      "application_type\n"
     ]
    }
   ],
   "source": [
    "count = 0\n",
    "\n",
    "for col in X:\n",
    "    if X[col].dtype == 'object':\n",
    "        if len(list(X[col].unique())) <= 2:     \n",
    "            X[col] = le.fit_transform(X[col])\n",
    "            count += 1\n",
    "            print (col)\n",
    "            "
   ]
  },
  {
   "cell_type": "code",
   "execution_count": 19,
   "metadata": {},
   "outputs": [
    {
     "data": {
      "text/html": [
       "<div>\n",
       "<style scoped>\n",
       "    .dataframe tbody tr th:only-of-type {\n",
       "        vertical-align: middle;\n",
       "    }\n",
       "\n",
       "    .dataframe tbody tr th {\n",
       "        vertical-align: top;\n",
       "    }\n",
       "\n",
       "    .dataframe thead th {\n",
       "        text-align: right;\n",
       "    }\n",
       "</style>\n",
       "<table border=\"1\" class=\"dataframe\">\n",
       "  <thead>\n",
       "    <tr style=\"text-align: right;\">\n",
       "      <th></th>\n",
       "      <th>loan_amnt</th>\n",
       "      <th>funded_amnt</th>\n",
       "      <th>funded_amnt_inv</th>\n",
       "      <th>term</th>\n",
       "      <th>int_rate</th>\n",
       "      <th>installment</th>\n",
       "      <th>grade</th>\n",
       "      <th>sub_grade</th>\n",
       "      <th>emp_length</th>\n",
       "      <th>home_ownership</th>\n",
       "      <th>...</th>\n",
       "      <th>next_pymnt_d</th>\n",
       "      <th>last_credit_pull_d</th>\n",
       "      <th>collections_12_mths_ex_med</th>\n",
       "      <th>policy_code</th>\n",
       "      <th>application_type</th>\n",
       "      <th>acc_now_delinq</th>\n",
       "      <th>chargeoff_within_12_mths</th>\n",
       "      <th>delinq_amnt</th>\n",
       "      <th>pub_rec_bankruptcies</th>\n",
       "      <th>tax_liens</th>\n",
       "    </tr>\n",
       "  </thead>\n",
       "  <tbody>\n",
       "    <tr>\n",
       "      <th>0</th>\n",
       "      <td>5000</td>\n",
       "      <td>5000</td>\n",
       "      <td>4975.0</td>\n",
       "      <td>0</td>\n",
       "      <td>0.1065</td>\n",
       "      <td>162.87</td>\n",
       "      <td>B</td>\n",
       "      <td>B2</td>\n",
       "      <td>10+ years</td>\n",
       "      <td>RENT</td>\n",
       "      <td>...</td>\n",
       "      <td>2016</td>\n",
       "      <td>5</td>\n",
       "      <td>0.0</td>\n",
       "      <td>1</td>\n",
       "      <td>0</td>\n",
       "      <td>0</td>\n",
       "      <td>0.0</td>\n",
       "      <td>0</td>\n",
       "      <td>0.0</td>\n",
       "      <td>0.0</td>\n",
       "    </tr>\n",
       "    <tr>\n",
       "      <th>1</th>\n",
       "      <td>2500</td>\n",
       "      <td>2500</td>\n",
       "      <td>2500.0</td>\n",
       "      <td>1</td>\n",
       "      <td>0.1527</td>\n",
       "      <td>59.83</td>\n",
       "      <td>C</td>\n",
       "      <td>C4</td>\n",
       "      <td>&lt; 1 year</td>\n",
       "      <td>RENT</td>\n",
       "      <td>...</td>\n",
       "      <td>2016</td>\n",
       "      <td>9</td>\n",
       "      <td>0.0</td>\n",
       "      <td>1</td>\n",
       "      <td>0</td>\n",
       "      <td>0</td>\n",
       "      <td>0.0</td>\n",
       "      <td>0</td>\n",
       "      <td>0.0</td>\n",
       "      <td>0.0</td>\n",
       "    </tr>\n",
       "    <tr>\n",
       "      <th>2</th>\n",
       "      <td>2400</td>\n",
       "      <td>2400</td>\n",
       "      <td>2400.0</td>\n",
       "      <td>0</td>\n",
       "      <td>0.1596</td>\n",
       "      <td>84.33</td>\n",
       "      <td>C</td>\n",
       "      <td>C5</td>\n",
       "      <td>10+ years</td>\n",
       "      <td>RENT</td>\n",
       "      <td>...</td>\n",
       "      <td>2016</td>\n",
       "      <td>5</td>\n",
       "      <td>0.0</td>\n",
       "      <td>1</td>\n",
       "      <td>0</td>\n",
       "      <td>0</td>\n",
       "      <td>0.0</td>\n",
       "      <td>0</td>\n",
       "      <td>0.0</td>\n",
       "      <td>0.0</td>\n",
       "    </tr>\n",
       "    <tr>\n",
       "      <th>3</th>\n",
       "      <td>10000</td>\n",
       "      <td>10000</td>\n",
       "      <td>10000.0</td>\n",
       "      <td>0</td>\n",
       "      <td>0.1349</td>\n",
       "      <td>339.31</td>\n",
       "      <td>C</td>\n",
       "      <td>C1</td>\n",
       "      <td>10+ years</td>\n",
       "      <td>RENT</td>\n",
       "      <td>...</td>\n",
       "      <td>2016</td>\n",
       "      <td>4</td>\n",
       "      <td>0.0</td>\n",
       "      <td>1</td>\n",
       "      <td>0</td>\n",
       "      <td>0</td>\n",
       "      <td>0.0</td>\n",
       "      <td>0</td>\n",
       "      <td>0.0</td>\n",
       "      <td>0.0</td>\n",
       "    </tr>\n",
       "    <tr>\n",
       "      <th>4</th>\n",
       "      <td>3000</td>\n",
       "      <td>3000</td>\n",
       "      <td>3000.0</td>\n",
       "      <td>1</td>\n",
       "      <td>0.1269</td>\n",
       "      <td>67.79</td>\n",
       "      <td>B</td>\n",
       "      <td>B5</td>\n",
       "      <td>1 year</td>\n",
       "      <td>RENT</td>\n",
       "      <td>...</td>\n",
       "      <td>2016</td>\n",
       "      <td>5</td>\n",
       "      <td>0.0</td>\n",
       "      <td>1</td>\n",
       "      <td>0</td>\n",
       "      <td>0</td>\n",
       "      <td>0.0</td>\n",
       "      <td>0</td>\n",
       "      <td>0.0</td>\n",
       "      <td>0.0</td>\n",
       "    </tr>\n",
       "  </tbody>\n",
       "</table>\n",
       "<p>5 rows × 48 columns</p>\n",
       "</div>"
      ],
      "text/plain": [
       "   loan_amnt  funded_amnt  funded_amnt_inv  term  int_rate  installment grade  \\\n",
       "0       5000         5000           4975.0     0    0.1065       162.87     B   \n",
       "1       2500         2500           2500.0     1    0.1527        59.83     C   \n",
       "2       2400         2400           2400.0     0    0.1596        84.33     C   \n",
       "3      10000        10000          10000.0     0    0.1349       339.31     C   \n",
       "4       3000         3000           3000.0     1    0.1269        67.79     B   \n",
       "\n",
       "  sub_grade emp_length home_ownership    ...      next_pymnt_d  \\\n",
       "0        B2  10+ years           RENT    ...              2016   \n",
       "1        C4   < 1 year           RENT    ...              2016   \n",
       "2        C5  10+ years           RENT    ...              2016   \n",
       "3        C1  10+ years           RENT    ...              2016   \n",
       "4        B5     1 year           RENT    ...              2016   \n",
       "\n",
       "  last_credit_pull_d  collections_12_mths_ex_med  policy_code  \\\n",
       "0                  5                         0.0            1   \n",
       "1                  9                         0.0            1   \n",
       "2                  5                         0.0            1   \n",
       "3                  4                         0.0            1   \n",
       "4                  5                         0.0            1   \n",
       "\n",
       "  application_type acc_now_delinq  chargeoff_within_12_mths  delinq_amnt  \\\n",
       "0                0              0                       0.0            0   \n",
       "1                0              0                       0.0            0   \n",
       "2                0              0                       0.0            0   \n",
       "3                0              0                       0.0            0   \n",
       "4                0              0                       0.0            0   \n",
       "\n",
       "   pub_rec_bankruptcies  tax_liens  \n",
       "0                   0.0        0.0  \n",
       "1                   0.0        0.0  \n",
       "2                   0.0        0.0  \n",
       "3                   0.0        0.0  \n",
       "4                   0.0        0.0  \n",
       "\n",
       "[5 rows x 48 columns]"
      ]
     },
     "execution_count": 19,
     "metadata": {},
     "output_type": "execute_result"
    }
   ],
   "source": [
    "X.head(5)"
   ]
  },
  {
   "cell_type": "markdown",
   "metadata": {},
   "source": [
    "### one hot encoding the rest data "
   ]
  },
  {
   "cell_type": "code",
   "execution_count": 20,
   "metadata": {},
   "outputs": [
    {
     "name": "stdout",
     "output_type": "stream",
     "text": [
      "(39717, 166)\n"
     ]
    }
   ],
   "source": [
    "dfx = pd.get_dummies(X)\n",
    "print(dfx.shape)\n"
   ]
  },
  {
   "cell_type": "code",
   "execution_count": 21,
   "metadata": {},
   "outputs": [],
   "source": [
    "dfx.dropna(inplace=True)"
   ]
  },
  {
   "cell_type": "code",
   "execution_count": 22,
   "metadata": {},
   "outputs": [
    {
     "data": {
      "text/plain": [
       "(39717, 166)"
      ]
     },
     "execution_count": 22,
     "metadata": {},
     "output_type": "execute_result"
    }
   ],
   "source": [
    "dfx.shape"
   ]
  },
  {
   "cell_type": "code",
   "execution_count": 23,
   "metadata": {},
   "outputs": [
    {
     "name": "stdout",
     "output_type": "stream",
     "text": [
      "<class 'pandas.core.frame.DataFrame'>\n",
      "Int64Index: 39717 entries, 0 to 39716\n",
      "Data columns (total 166 columns):\n",
      "loan_amnt                              39717 non-null int64\n",
      "funded_amnt                            39717 non-null int64\n",
      "funded_amnt_inv                        39717 non-null float64\n",
      "term                                   39717 non-null int64\n",
      "int_rate                               39717 non-null float64\n",
      "installment                            39717 non-null float64\n",
      "annual_inc                             39717 non-null float64\n",
      "issue_d                                39717 non-null int64\n",
      "pymnt_plan                             39717 non-null int64\n",
      "dti                                    39717 non-null float64\n",
      "delinq_2yrs                            39717 non-null int64\n",
      "earliest_cr_line                       39717 non-null int64\n",
      "inq_last_6mths                         39717 non-null int64\n",
      "mths_since_last_delinq                 39717 non-null float64\n",
      "open_acc                               39717 non-null int64\n",
      "pub_rec                                39717 non-null int64\n",
      "revol_bal                              39717 non-null int64\n",
      "revol_util                             39717 non-null float64\n",
      "total_acc                              39717 non-null int64\n",
      "initial_list_status                    39717 non-null int64\n",
      "out_prncp                              39717 non-null float64\n",
      "out_prncp_inv                          39717 non-null float64\n",
      "total_pymnt                            39717 non-null float64\n",
      "total_pymnt_inv                        39717 non-null float64\n",
      "total_rec_prncp                        39717 non-null float64\n",
      "total_rec_int                          39717 non-null float64\n",
      "total_rec_late_fee                     39717 non-null float64\n",
      "recoveries                             39717 non-null float64\n",
      "collection_recovery_fee                39717 non-null float64\n",
      "last_pymnt_d                           39717 non-null int64\n",
      "last_pymnt_amnt                        39717 non-null float64\n",
      "next_pymnt_d                           39717 non-null int64\n",
      "last_credit_pull_d                     39717 non-null int64\n",
      "collections_12_mths_ex_med             39717 non-null float64\n",
      "policy_code                            39717 non-null int64\n",
      "application_type                       39717 non-null int64\n",
      "acc_now_delinq                         39717 non-null int64\n",
      "chargeoff_within_12_mths               39717 non-null float64\n",
      "delinq_amnt                            39717 non-null int64\n",
      "pub_rec_bankruptcies                   39717 non-null float64\n",
      "tax_liens                              39717 non-null float64\n",
      "grade_A                                39717 non-null uint8\n",
      "grade_B                                39717 non-null uint8\n",
      "grade_C                                39717 non-null uint8\n",
      "grade_D                                39717 non-null uint8\n",
      "grade_E                                39717 non-null uint8\n",
      "grade_F                                39717 non-null uint8\n",
      "grade_G                                39717 non-null uint8\n",
      "sub_grade_A1                           39717 non-null uint8\n",
      "sub_grade_A2                           39717 non-null uint8\n",
      "sub_grade_A3                           39717 non-null uint8\n",
      "sub_grade_A4                           39717 non-null uint8\n",
      "sub_grade_A5                           39717 non-null uint8\n",
      "sub_grade_B1                           39717 non-null uint8\n",
      "sub_grade_B2                           39717 non-null uint8\n",
      "sub_grade_B3                           39717 non-null uint8\n",
      "sub_grade_B4                           39717 non-null uint8\n",
      "sub_grade_B5                           39717 non-null uint8\n",
      "sub_grade_C1                           39717 non-null uint8\n",
      "sub_grade_C2                           39717 non-null uint8\n",
      "sub_grade_C3                           39717 non-null uint8\n",
      "sub_grade_C4                           39717 non-null uint8\n",
      "sub_grade_C5                           39717 non-null uint8\n",
      "sub_grade_D1                           39717 non-null uint8\n",
      "sub_grade_D2                           39717 non-null uint8\n",
      "sub_grade_D3                           39717 non-null uint8\n",
      "sub_grade_D4                           39717 non-null uint8\n",
      "sub_grade_D5                           39717 non-null uint8\n",
      "sub_grade_E1                           39717 non-null uint8\n",
      "sub_grade_E2                           39717 non-null uint8\n",
      "sub_grade_E3                           39717 non-null uint8\n",
      "sub_grade_E4                           39717 non-null uint8\n",
      "sub_grade_E5                           39717 non-null uint8\n",
      "sub_grade_F1                           39717 non-null uint8\n",
      "sub_grade_F2                           39717 non-null uint8\n",
      "sub_grade_F3                           39717 non-null uint8\n",
      "sub_grade_F4                           39717 non-null uint8\n",
      "sub_grade_F5                           39717 non-null uint8\n",
      "sub_grade_G1                           39717 non-null uint8\n",
      "sub_grade_G2                           39717 non-null uint8\n",
      "sub_grade_G3                           39717 non-null uint8\n",
      "sub_grade_G4                           39717 non-null uint8\n",
      "sub_grade_G5                           39717 non-null uint8\n",
      "emp_length_1 year                      39717 non-null uint8\n",
      "emp_length_10+ years                   39717 non-null uint8\n",
      "emp_length_2 years                     39717 non-null uint8\n",
      "emp_length_3 years                     39717 non-null uint8\n",
      "emp_length_4 years                     39717 non-null uint8\n",
      "emp_length_5 years                     39717 non-null uint8\n",
      "emp_length_6 years                     39717 non-null uint8\n",
      "emp_length_7 years                     39717 non-null uint8\n",
      "emp_length_8 years                     39717 non-null uint8\n",
      "emp_length_9 years                     39717 non-null uint8\n",
      "emp_length_< 1 year                    39717 non-null uint8\n",
      "home_ownership_MORTGAGE                39717 non-null uint8\n",
      "home_ownership_NONE                    39717 non-null uint8\n",
      "home_ownership_OTHER                   39717 non-null uint8\n",
      "home_ownership_OWN                     39717 non-null uint8\n",
      "home_ownership_RENT                    39717 non-null uint8\n",
      "verification_status_Not Verified       39717 non-null uint8\n",
      "verification_status_Source Verified    39717 non-null uint8\n",
      "verification_status_Verified           39717 non-null uint8\n",
      "purpose_car                            39717 non-null uint8\n",
      "purpose_credit_card                    39717 non-null uint8\n",
      "purpose_debt_consolidation             39717 non-null uint8\n",
      "purpose_educational                    39717 non-null uint8\n",
      "purpose_home_improvement               39717 non-null uint8\n",
      "purpose_house                          39717 non-null uint8\n",
      "purpose_major_purchase                 39717 non-null uint8\n",
      "purpose_medical                        39717 non-null uint8\n",
      "purpose_moving                         39717 non-null uint8\n",
      "purpose_other                          39717 non-null uint8\n",
      "purpose_renewable_energy               39717 non-null uint8\n",
      "purpose_small_business                 39717 non-null uint8\n",
      "purpose_vacation                       39717 non-null uint8\n",
      "purpose_wedding                        39717 non-null uint8\n",
      "addr_state_AK                          39717 non-null uint8\n",
      "addr_state_AL                          39717 non-null uint8\n",
      "addr_state_AR                          39717 non-null uint8\n",
      "addr_state_AZ                          39717 non-null uint8\n",
      "addr_state_CA                          39717 non-null uint8\n",
      "addr_state_CO                          39717 non-null uint8\n",
      "addr_state_CT                          39717 non-null uint8\n",
      "addr_state_DC                          39717 non-null uint8\n",
      "addr_state_DE                          39717 non-null uint8\n",
      "addr_state_FL                          39717 non-null uint8\n",
      "addr_state_GA                          39717 non-null uint8\n",
      "addr_state_HI                          39717 non-null uint8\n",
      "addr_state_IA                          39717 non-null uint8\n",
      "addr_state_ID                          39717 non-null uint8\n",
      "addr_state_IL                          39717 non-null uint8\n",
      "addr_state_IN                          39717 non-null uint8\n",
      "addr_state_KS                          39717 non-null uint8\n",
      "addr_state_KY                          39717 non-null uint8\n",
      "addr_state_LA                          39717 non-null uint8\n",
      "addr_state_MA                          39717 non-null uint8\n",
      "addr_state_MD                          39717 non-null uint8\n",
      "addr_state_ME                          39717 non-null uint8\n",
      "addr_state_MI                          39717 non-null uint8\n",
      "addr_state_MN                          39717 non-null uint8\n",
      "addr_state_MO                          39717 non-null uint8\n",
      "addr_state_MS                          39717 non-null uint8\n",
      "addr_state_MT                          39717 non-null uint8\n",
      "addr_state_NC                          39717 non-null uint8\n",
      "addr_state_NE                          39717 non-null uint8\n",
      "addr_state_NH                          39717 non-null uint8\n",
      "addr_state_NJ                          39717 non-null uint8\n",
      "addr_state_NM                          39717 non-null uint8\n",
      "addr_state_NV                          39717 non-null uint8\n",
      "addr_state_NY                          39717 non-null uint8\n",
      "addr_state_OH                          39717 non-null uint8\n",
      "addr_state_OK                          39717 non-null uint8\n",
      "addr_state_OR                          39717 non-null uint8\n",
      "addr_state_PA                          39717 non-null uint8\n",
      "addr_state_RI                          39717 non-null uint8\n",
      "addr_state_SC                          39717 non-null uint8\n",
      "addr_state_SD                          39717 non-null uint8\n",
      "addr_state_TN                          39717 non-null uint8\n",
      "addr_state_TX                          39717 non-null uint8\n",
      "addr_state_UT                          39717 non-null uint8\n",
      "addr_state_VA                          39717 non-null uint8\n",
      "addr_state_VT                          39717 non-null uint8\n",
      "addr_state_WA                          39717 non-null uint8\n",
      "addr_state_WI                          39717 non-null uint8\n",
      "addr_state_WV                          39717 non-null uint8\n",
      "addr_state_WY                          39717 non-null uint8\n",
      "dtypes: float64(21), int64(20), uint8(125)\n",
      "memory usage: 17.5 MB\n"
     ]
    }
   ],
   "source": [
    "dfx.info(verbose=True,memory_usage='deep',null_counts = True)"
   ]
  },
  {
   "cell_type": "code",
   "execution_count": 24,
   "metadata": {},
   "outputs": [
    {
     "name": "stderr",
     "output_type": "stream",
     "text": [
      "/usr/local/lib/python2.7/dist-packages/sklearn/ensemble/weight_boosting.py:29: DeprecationWarning: numpy.core.umath_tests is an internal NumPy module and should not be imported. It will be removed in a future NumPy release.\n",
      "  from numpy.core.umath_tests import inner1d\n"
     ]
    }
   ],
   "source": [
    "from sklearn.ensemble import RandomForestClassifier\n",
    "from sklearn.model_selection import train_test_split"
   ]
  },
  {
   "cell_type": "markdown",
   "metadata": {},
   "source": [
    "# RandomForest Classifier"
   ]
  },
  {
   "cell_type": "code",
   "execution_count": 25,
   "metadata": {},
   "outputs": [],
   "source": [
    "rf=RandomForestClassifier()"
   ]
  },
  {
   "cell_type": "code",
   "execution_count": 26,
   "metadata": {},
   "outputs": [],
   "source": [
    "x_train,x_test,y_train,y_test=train_test_split(dfx, y, test_size=0.20) #splitting train test data"
   ]
  },
  {
   "cell_type": "code",
   "execution_count": 27,
   "metadata": {},
   "outputs": [
    {
     "data": {
      "text/plain": [
       "RandomForestClassifier(bootstrap=True, class_weight=None, criterion='gini',\n",
       "            max_depth=None, max_features='auto', max_leaf_nodes=None,\n",
       "            min_impurity_decrease=0.0, min_impurity_split=None,\n",
       "            min_samples_leaf=1, min_samples_split=2,\n",
       "            min_weight_fraction_leaf=0.0, n_estimators=10, n_jobs=1,\n",
       "            oob_score=False, random_state=None, verbose=0,\n",
       "            warm_start=False)"
      ]
     },
     "execution_count": 27,
     "metadata": {},
     "output_type": "execute_result"
    }
   ],
   "source": [
    "rf.fit(x_train,y_train)"
   ]
  },
  {
   "cell_type": "code",
   "execution_count": 28,
   "metadata": {},
   "outputs": [
    {
     "data": {
      "text/plain": [
       "0.9923212487411883"
      ]
     },
     "execution_count": 28,
     "metadata": {},
     "output_type": "execute_result"
    }
   ],
   "source": [
    "rf.score(x_test,y_test)"
   ]
  },
  {
   "cell_type": "markdown",
   "metadata": {},
   "source": [
    "# using multinomial naive bayes"
   ]
  },
  {
   "cell_type": "code",
   "execution_count": 31,
   "metadata": {},
   "outputs": [],
   "source": [
    "from sklearn.naive_bayes import MultinomialNB"
   ]
  },
  {
   "cell_type": "code",
   "execution_count": 32,
   "metadata": {},
   "outputs": [],
   "source": [
    "mnb=MultinomialNB()"
   ]
  },
  {
   "cell_type": "code",
   "execution_count": 33,
   "metadata": {},
   "outputs": [
    {
     "data": {
      "text/plain": [
       "MultinomialNB(alpha=1.0, class_prior=None, fit_prior=True)"
      ]
     },
     "execution_count": 33,
     "metadata": {},
     "output_type": "execute_result"
    }
   ],
   "source": [
    "mnb.fit(x_train,y_train)"
   ]
  },
  {
   "cell_type": "code",
   "execution_count": 34,
   "metadata": {},
   "outputs": [
    {
     "data": {
      "text/plain": [
       "0.7404330312185297"
      ]
     },
     "execution_count": 34,
     "metadata": {},
     "output_type": "execute_result"
    }
   ],
   "source": [
    "mnb.score(x_test,y_test)"
   ]
  },
  {
   "cell_type": "code",
   "execution_count": null,
   "metadata": {},
   "outputs": [],
   "source": []
  }
 ],
 "metadata": {
  "kernelspec": {
   "display_name": "Python 3",
   "language": "python",
   "name": "python3"
  },
  "language_info": {
   "codemirror_mode": {
    "name": "ipython",
    "version": 2
   },
   "file_extension": ".py",
   "mimetype": "text/x-python",
   "name": "python",
   "nbconvert_exporter": "python",
   "pygments_lexer": "ipython2",
   "version": "2.7.15rc1"
  }
 },
 "nbformat": 4,
 "nbformat_minor": 2
}
