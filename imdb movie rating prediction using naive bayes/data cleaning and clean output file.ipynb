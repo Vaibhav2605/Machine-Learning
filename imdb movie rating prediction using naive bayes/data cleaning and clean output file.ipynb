{
 "cells": [
  {
   "cell_type": "code",
   "execution_count": 21,
   "metadata": {},
   "outputs": [],
   "source": [
    "import pandas as pd\n",
    "import numpy as np\n",
    "from nltk.tokenize import RegexpTokenizer \n",
    "from nltk.corpus import stopwords\n",
    "from nltk.stem.snowball import PorterStemmer\n",
    "from io import open"
   ]
  },
  {
   "cell_type": "code",
   "execution_count": 5,
   "metadata": {},
   "outputs": [],
   "source": [
    "dfxtest=pd.read_fwf('imdb_testX.txt')\n",
    "dfytest=pd.read_fwf('imdb_testY.txt')\n",
    "dfx=pd.read_fwf('imdb_trainX.txt')\n",
    "dfy=pd.read_fwf('imdb_trainY.txt')\n"
   ]
  },
  {
   "cell_type": "markdown",
   "metadata": {},
   "source": [
    "# # data cleaning using NLTK"
   ]
  },
  {
   "cell_type": "code",
   "execution_count": 9,
   "metadata": {},
   "outputs": [],
   "source": [
    "def nl(sen):\n",
    "    tokenizer=RegexpTokenizer(r'\\w+') #tokenizing\n",
    "    sen = sen.replace(\"<br /><br />\",\" \")\n",
    "    token=tokenizer.tokenize(sen.lower())\n",
    "    \n",
    "    sw=set(stopwords.words('english'))       #stopwords removal\n",
    "    word_list=[w for w in token if w not in sw] \n",
    "    \n",
    "    ps=PorterStemmer()                      #stemming\n",
    "    stemmed_list=[]\n",
    "    for i in range(len(word_list)):\n",
    "        stemmed_list.append(ps.stem(word_list[i]))\n",
    "        \n",
    "    cleaned_review = ' '.join(stemmed_list)    \n",
    "    return(cleaned_review)"
   ]
  },
  {
   "cell_type": "code",
   "execution_count": 10,
   "metadata": {},
   "outputs": [],
   "source": [
    "x=\"\"\"I loved this movie <br /><br /> since I was 7 and I saw it on the opening day. It was so touching and beautiful. I strongly recommend seeing for all. It's a movie to watch with your family by far.<br /><br />My MPAA rating: PG-13 for thematic elements, prolonged scenes of disastor, nudity/sexuality and some language.\"\"\""
   ]
  },
  {
   "cell_type": "code",
   "execution_count": 11,
   "metadata": {},
   "outputs": [
    {
     "data": {
      "text/plain": [
       "u'love movi sinc 7 saw open day touch beauti strongli recommend see movi watch famili far mpaa rate pg 13 themat element prolong scene disastor nuditi sexual languag'"
      ]
     },
     "execution_count": 11,
     "metadata": {},
     "output_type": "execute_result"
    }
   ],
   "source": [
    "nl(x)"
   ]
  },
  {
   "cell_type": "markdown",
   "metadata": {},
   "source": [
    "# making a clean input file"
   ]
  },
  {
   "cell_type": "markdown",
   "metadata": {},
   "source": [
    "Using file handling input files will be taken and cleaned and then written to new clean output files"
   ]
  },
  {
   "cell_type": "code",
   "execution_count": 22,
   "metadata": {},
   "outputs": [],
   "source": [
    "def cleanDocument(inputFile,outputFile):\n",
    "\n",
    "    out = open(outputFile,'w',encoding=\"utf8\")\n",
    "\n",
    "    with open(inputFile,encoding=\"utf8\") as f:\n",
    "        reviews = f.readlines()\n",
    "\n",
    "    for review in reviews:\n",
    "        cleaned_review = nl(review)\n",
    "        out.write(cleaned_review)\n",
    "\n",
    "    out.close()"
   ]
  },
  {
   "cell_type": "code",
   "execution_count": 23,
   "metadata": {},
   "outputs": [],
   "source": [
    "inputfile='imdb_trainX.txt'\n",
    "outputfile='cleaned_trainX.txt'\n",
    "cleanDocument(inputfile,outputfile)"
   ]
  },
  {
   "cell_type": "code",
   "execution_count": null,
   "metadata": {},
   "outputs": [],
   "source": []
  }
 ],
 "metadata": {
  "kernelspec": {
   "display_name": "Python 3",
   "language": "python",
   "name": "python3"
  },
  "language_info": {
   "codemirror_mode": {
    "name": "ipython",
    "version": 2
   },
   "file_extension": ".py",
   "mimetype": "text/x-python",
   "name": "python",
   "nbconvert_exporter": "python",
   "pygments_lexer": "ipython2",
   "version": "2.7.15rc1"
  }
 },
 "nbformat": 4,
 "nbformat_minor": 2
}
